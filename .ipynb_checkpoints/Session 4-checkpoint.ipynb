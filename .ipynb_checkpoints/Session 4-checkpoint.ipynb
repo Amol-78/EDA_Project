{
 "cells": [
  {
   "cell_type": "code",
   "execution_count": null,
   "id": "19ceb0c9-61af-45bc-82dc-7378573d9f23",
   "metadata": {},
   "outputs": [],
   "source": [
    "import pandas as pd\n",
    "import numpy as np\n",
    "import matplotlib.pyplot as plt\n",
    "import seaborn as san"
   ]
  },
  {
   "cell_type": "code",
   "execution_count": null,
   "id": "ceedd410-8277-4304-be62-e46ea374c71b",
   "metadata": {},
   "outputs": [],
   "source": [
    "# import the packages\n",
    "# read the data\n",
    "# divide into categorical and numerical\n",
    "# create a frequncy table using value count\n",
    "# and save at a python file"
   ]
  },
  {
   "cell_type": "code",
   "execution_count": 1,
   "id": "a051340c-9c6b-45a0-8920-dbe527357e58",
   "metadata": {},
   "outputs": [
    {
     "name": "stdout",
     "output_type": "stream",
     "text": [
      "40\n"
     ]
    }
   ],
   "source": [
    "a=20\n",
    "b=20\n",
    "c=a+b\n",
    "print(c)"
   ]
  },
  {
   "cell_type": "code",
   "execution_count": null,
   "id": "130c59e3-ced5-4a77-bc98-dc5ac1be7a5b",
   "metadata": {},
   "outputs": [],
   "source": []
  }
 ],
 "metadata": {
  "kernelspec": {
   "display_name": "Python [conda env:base] *",
   "language": "python",
   "name": "conda-base-py"
  },
  "language_info": {
   "codemirror_mode": {
    "name": "ipython",
    "version": 3
   },
   "file_extension": ".py",
   "mimetype": "text/x-python",
   "name": "python",
   "nbconvert_exporter": "python",
   "pygments_lexer": "ipython3",
   "version": "3.12.7"
  }
 },
 "nbformat": 4,
 "nbformat_minor": 5
}
