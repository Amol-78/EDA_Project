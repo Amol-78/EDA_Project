{
 "cells": [
  {
   "cell_type": "code",
   "execution_count": 3,
   "id": "16f29fe3-99bd-4363-a8b2-45beb8d36200",
   "metadata": {},
   "outputs": [],
   "source": [
    "import pandas as pd\n",
    "import numpy as np"
   ]
  },
  {
   "cell_type": "code",
   "execution_count": 7,
   "id": "73700618-5edd-4a3e-ae37-0c0d811ee0b0",
   "metadata": {},
   "outputs": [],
   "source": [
    "df=pd.DataFrame()"
   ]
  },
  {
   "cell_type": "code",
   "execution_count": 9,
   "id": "e7463294-90da-4e61-9914-cad27f89e335",
   "metadata": {},
   "outputs": [],
   "source": [
    "records = [\n",
    "    {'Name': 'Alice', 'Age': 24, 'City': 'New York'},\n",
    "    {'Name': 'Bob', 'Age': 27, 'City': 'London'},\n",
    "    {'Name': 'Charlie', 'Age': 22, 'City': 'Paris'}\n",
    "]\n",
    "df = pd.DataFrame(records)"
   ]
  },
  {
   "cell_type": "code",
   "execution_count": 11,
   "id": "e3d3d1ad-996c-453d-8227-8e0b5ff834c5",
   "metadata": {},
   "outputs": [
    {
     "data": {
      "text/html": [
       "<div>\n",
       "<style scoped>\n",
       "    .dataframe tbody tr th:only-of-type {\n",
       "        vertical-align: middle;\n",
       "    }\n",
       "\n",
       "    .dataframe tbody tr th {\n",
       "        vertical-align: top;\n",
       "    }\n",
       "\n",
       "    .dataframe thead th {\n",
       "        text-align: right;\n",
       "    }\n",
       "</style>\n",
       "<table border=\"1\" class=\"dataframe\">\n",
       "  <thead>\n",
       "    <tr style=\"text-align: right;\">\n",
       "      <th></th>\n",
       "      <th>Name</th>\n",
       "      <th>Age</th>\n",
       "      <th>City</th>\n",
       "    </tr>\n",
       "  </thead>\n",
       "  <tbody>\n",
       "    <tr>\n",
       "      <th>0</th>\n",
       "      <td>Alice</td>\n",
       "      <td>24</td>\n",
       "      <td>New York</td>\n",
       "    </tr>\n",
       "    <tr>\n",
       "      <th>1</th>\n",
       "      <td>Bob</td>\n",
       "      <td>27</td>\n",
       "      <td>London</td>\n",
       "    </tr>\n",
       "    <tr>\n",
       "      <th>2</th>\n",
       "      <td>Charlie</td>\n",
       "      <td>22</td>\n",
       "      <td>Paris</td>\n",
       "    </tr>\n",
       "  </tbody>\n",
       "</table>\n",
       "</div>"
      ],
      "text/plain": [
       "      Name  Age      City\n",
       "0    Alice   24  New York\n",
       "1      Bob   27    London\n",
       "2  Charlie   22     Paris"
      ]
     },
     "execution_count": 11,
     "metadata": {},
     "output_type": "execute_result"
    }
   ],
   "source": [
    "df"
   ]
  },
  {
   "cell_type": "code",
   "execution_count": 9,
   "id": "c07a3e34-df22-4793-a3c4-8b33a5d269d3",
   "metadata": {},
   "outputs": [
    {
     "ename": "TypeError",
     "evalue": "TextIOWrapper.write() takes no keyword arguments",
     "output_type": "error",
     "traceback": [
      "\u001b[1;31m---------------------------------------------------------------------------\u001b[0m",
      "\u001b[1;31mTypeError\u001b[0m                                 Traceback (most recent call last)",
      "Cell \u001b[1;32mIn[9], line 3\u001b[0m\n\u001b[0;32m      1\u001b[0m path\u001b[38;5;241m=\u001b[39m\u001b[38;5;124m'\u001b[39m\u001b[38;5;124mecccc.txt\u001b[39m\u001b[38;5;124m'\u001b[39m\n\u001b[0;32m      2\u001b[0m file\u001b[38;5;241m=\u001b[39m \u001b[38;5;28mopen\u001b[39m(path,\u001b[38;5;124m'\u001b[39m\u001b[38;5;124mw\u001b[39m\u001b[38;5;124m'\u001b[39m)\n\u001b[1;32m----> 3\u001b[0m data\u001b[38;5;241m=\u001b[39mfile\u001b[38;5;241m.\u001b[39mwrite(records \u001b[38;5;241m=\u001b[39m [\n\u001b[0;32m      4\u001b[0m     {\u001b[38;5;124m'\u001b[39m\u001b[38;5;124mName\u001b[39m\u001b[38;5;124m'\u001b[39m: \u001b[38;5;124m'\u001b[39m\u001b[38;5;124mAlice\u001b[39m\u001b[38;5;124m'\u001b[39m, \u001b[38;5;124m'\u001b[39m\u001b[38;5;124mAge\u001b[39m\u001b[38;5;124m'\u001b[39m: \u001b[38;5;241m24\u001b[39m, \u001b[38;5;124m'\u001b[39m\u001b[38;5;124mCity\u001b[39m\u001b[38;5;124m'\u001b[39m: \u001b[38;5;124m'\u001b[39m\u001b[38;5;124mNew York\u001b[39m\u001b[38;5;124m'\u001b[39m},\n\u001b[0;32m      5\u001b[0m     {\u001b[38;5;124m'\u001b[39m\u001b[38;5;124mName\u001b[39m\u001b[38;5;124m'\u001b[39m: \u001b[38;5;124m'\u001b[39m\u001b[38;5;124mBob\u001b[39m\u001b[38;5;124m'\u001b[39m, \u001b[38;5;124m'\u001b[39m\u001b[38;5;124mAge\u001b[39m\u001b[38;5;124m'\u001b[39m: \u001b[38;5;241m27\u001b[39m, \u001b[38;5;124m'\u001b[39m\u001b[38;5;124mCity\u001b[39m\u001b[38;5;124m'\u001b[39m: \u001b[38;5;124m'\u001b[39m\u001b[38;5;124mLondon\u001b[39m\u001b[38;5;124m'\u001b[39m},\n\u001b[0;32m      6\u001b[0m     {\u001b[38;5;124m'\u001b[39m\u001b[38;5;124mName\u001b[39m\u001b[38;5;124m'\u001b[39m: \u001b[38;5;124m'\u001b[39m\u001b[38;5;124mCharlie\u001b[39m\u001b[38;5;124m'\u001b[39m, \u001b[38;5;124m'\u001b[39m\u001b[38;5;124mAge\u001b[39m\u001b[38;5;124m'\u001b[39m: \u001b[38;5;241m22\u001b[39m, \u001b[38;5;124m'\u001b[39m\u001b[38;5;124mCity\u001b[39m\u001b[38;5;124m'\u001b[39m: \u001b[38;5;124m'\u001b[39m\u001b[38;5;124mParis\u001b[39m\u001b[38;5;124m'\u001b[39m}\n\u001b[0;32m      7\u001b[0m ])\n\u001b[0;32m      8\u001b[0m \u001b[38;5;28mprint\u001b[39m(data)\n",
      "\u001b[1;31mTypeError\u001b[0m: TextIOWrapper.write() takes no keyword arguments"
     ]
    }
   ],
   "source": [
    "path=\n",
    "file= open(path,'w')\n",
    "data=file.write(records = [\n",
    "    {'Name': 'Alice', 'Age': 24, 'City': 'New York'},\n",
    "    {'Name': 'Bob', 'Age': 27, 'City': 'London'},\n",
    "    {'Name': 'Charlie', 'Age': 22, 'City': 'Paris'}\n",
    "])\n",
    "print(data)"
   ]
  },
  {
   "cell_type": "code",
   "execution_count": 5,
   "id": "ffa99847-b775-4e2c-bad9-6642d2eb5e87",
   "metadata": {},
   "outputs": [
    {
     "name": "stdout",
     "output_type": "stream",
     "text": [
      "ecccc.xlsx\n"
     ]
    }
   ],
   "source": [
    "import pandas as pd\n",
    "\n",
    "records=[ \n",
    "    {'Name': 'Alice', 'Age': 24, 'City': 'New York'},\n",
    "    {'Name': 'Bob', 'Age': 27, 'City': 'London'},\n",
    "    {'Name': 'Charlie', 'Age': 22, 'City': 'Paris'}\n",
    "]\n",
    "df=pd.DataFrame(records)\n",
    "path='ecccc.xlsx'\n",
    "# df.to_excel(path,index=False)\n",
    "df.to_excel(path)\n",
    "print(path)\n",
    "\n"
   ]
  },
  {
   "cell_type": "code",
   "execution_count": 7,
   "id": "78573215-b583-4159-98a2-5127eadf7ee1",
   "metadata": {},
   "outputs": [
    {
     "name": "stdout",
     "output_type": "stream",
     "text": [
      "eccccp.xlsx\n"
     ]
    }
   ],
   "source": [
    "import pandas as pd\n",
    "\n",
    "records=[ \n",
    "    {'Name': 'Alice', 'Age': 24, 'City': 'New York'},\n",
    "    {'Name': 'Bob', 'Age': 27, 'City': 'London'},\n",
    "    {'Name': 'Charlie', 'Age': 22, 'City': 'Paris'}\n",
    "]\n",
    "df=pd.DataFrame(records)\n",
    "path='eccccp.xlsx'\n",
    "df.to_excel(path,index=False)\n",
    "# df.to_excel(path)\n",
    "print(path)"
   ]
  },
  {
   "cell_type": "code",
   "execution_count": null,
   "id": "2697ba87-e5dd-4d2c-8171-f1948220782c",
   "metadata": {},
   "outputs": [],
   "source": []
  }
 ],
 "metadata": {
  "kernelspec": {
   "display_name": "Python [conda env:base] *",
   "language": "python",
   "name": "conda-base-py"
  },
  "language_info": {
   "codemirror_mode": {
    "name": "ipython",
    "version": 3
   },
   "file_extension": ".py",
   "mimetype": "text/x-python",
   "name": "python",
   "nbconvert_exporter": "python",
   "pygments_lexer": "ipython3",
   "version": "3.12.7"
  }
 },
 "nbformat": 4,
 "nbformat_minor": 5
}
