{
 "cells": [
  {
   "cell_type": "code",
   "execution_count": 1,
   "id": "3f4ffcd0-e334-4901-a2e2-754abc1f4443",
   "metadata": {},
   "outputs": [],
   "source": [
    "import numpy as np\n",
    "import pandas as pd\n",
    "import matplotlib.pyplot as plt\n",
    "import seaborn as sns"
   ]
  },
  {
   "cell_type": "code",
   "execution_count": 2,
   "id": "78bd2f62-5342-4221-8328-5c0cb013a6f8",
   "metadata": {},
   "outputs": [],
   "source": [
    "# import the pakage\n",
    "# read the datqa\n",
    "# divide the numerical and charector"
   ]
  },
  {
   "cell_type": "code",
   "execution_count": 3,
   "id": "6127e33f-e5c2-422f-890d-5755ce42498b",
   "metadata": {},
   "outputs": [
    {
     "data": {
      "text/html": [
       "<div>\n",
       "<style scoped>\n",
       "    .dataframe tbody tr th:only-of-type {\n",
       "        vertical-align: middle;\n",
       "    }\n",
       "\n",
       "    .dataframe tbody tr th {\n",
       "        vertical-align: top;\n",
       "    }\n",
       "\n",
       "    .dataframe thead th {\n",
       "        text-align: right;\n",
       "    }\n",
       "</style>\n",
       "<table border=\"1\" class=\"dataframe\">\n",
       "  <thead>\n",
       "    <tr style=\"text-align: right;\">\n",
       "      <th></th>\n",
       "      <th>case_id</th>\n",
       "      <th>continent</th>\n",
       "      <th>education_of_employee</th>\n",
       "      <th>has_job_experience</th>\n",
       "      <th>requires_job_training</th>\n",
       "      <th>no_of_employees</th>\n",
       "      <th>yr_of_estab</th>\n",
       "      <th>region_of_employment</th>\n",
       "      <th>prevailing_wage</th>\n",
       "      <th>unit_of_wage</th>\n",
       "      <th>full_time_position</th>\n",
       "      <th>case_status</th>\n",
       "    </tr>\n",
       "  </thead>\n",
       "  <tbody>\n",
       "    <tr>\n",
       "      <th>0</th>\n",
       "      <td>EZYV01</td>\n",
       "      <td>Asia</td>\n",
       "      <td>High School</td>\n",
       "      <td>N</td>\n",
       "      <td>N</td>\n",
       "      <td>14513</td>\n",
       "      <td>2007</td>\n",
       "      <td>West</td>\n",
       "      <td>592.2029</td>\n",
       "      <td>Hour</td>\n",
       "      <td>Y</td>\n",
       "      <td>Denied</td>\n",
       "    </tr>\n",
       "    <tr>\n",
       "      <th>1</th>\n",
       "      <td>EZYV02</td>\n",
       "      <td>Asia</td>\n",
       "      <td>Master's</td>\n",
       "      <td>Y</td>\n",
       "      <td>N</td>\n",
       "      <td>2412</td>\n",
       "      <td>2002</td>\n",
       "      <td>Northeast</td>\n",
       "      <td>83425.6500</td>\n",
       "      <td>Year</td>\n",
       "      <td>Y</td>\n",
       "      <td>Certified</td>\n",
       "    </tr>\n",
       "    <tr>\n",
       "      <th>2</th>\n",
       "      <td>EZYV03</td>\n",
       "      <td>Asia</td>\n",
       "      <td>Bachelor's</td>\n",
       "      <td>N</td>\n",
       "      <td>Y</td>\n",
       "      <td>44444</td>\n",
       "      <td>2008</td>\n",
       "      <td>West</td>\n",
       "      <td>122996.8600</td>\n",
       "      <td>Year</td>\n",
       "      <td>Y</td>\n",
       "      <td>Denied</td>\n",
       "    </tr>\n",
       "    <tr>\n",
       "      <th>3</th>\n",
       "      <td>EZYV04</td>\n",
       "      <td>Asia</td>\n",
       "      <td>Bachelor's</td>\n",
       "      <td>N</td>\n",
       "      <td>N</td>\n",
       "      <td>98</td>\n",
       "      <td>1897</td>\n",
       "      <td>West</td>\n",
       "      <td>83434.0300</td>\n",
       "      <td>Year</td>\n",
       "      <td>Y</td>\n",
       "      <td>Denied</td>\n",
       "    </tr>\n",
       "    <tr>\n",
       "      <th>4</th>\n",
       "      <td>EZYV05</td>\n",
       "      <td>Africa</td>\n",
       "      <td>Master's</td>\n",
       "      <td>Y</td>\n",
       "      <td>N</td>\n",
       "      <td>1082</td>\n",
       "      <td>2005</td>\n",
       "      <td>South</td>\n",
       "      <td>149907.3900</td>\n",
       "      <td>Year</td>\n",
       "      <td>Y</td>\n",
       "      <td>Certified</td>\n",
       "    </tr>\n",
       "    <tr>\n",
       "      <th>...</th>\n",
       "      <td>...</td>\n",
       "      <td>...</td>\n",
       "      <td>...</td>\n",
       "      <td>...</td>\n",
       "      <td>...</td>\n",
       "      <td>...</td>\n",
       "      <td>...</td>\n",
       "      <td>...</td>\n",
       "      <td>...</td>\n",
       "      <td>...</td>\n",
       "      <td>...</td>\n",
       "      <td>...</td>\n",
       "    </tr>\n",
       "    <tr>\n",
       "      <th>25475</th>\n",
       "      <td>EZYV25476</td>\n",
       "      <td>Asia</td>\n",
       "      <td>Bachelor's</td>\n",
       "      <td>Y</td>\n",
       "      <td>Y</td>\n",
       "      <td>2601</td>\n",
       "      <td>2008</td>\n",
       "      <td>South</td>\n",
       "      <td>77092.5700</td>\n",
       "      <td>Year</td>\n",
       "      <td>Y</td>\n",
       "      <td>Certified</td>\n",
       "    </tr>\n",
       "    <tr>\n",
       "      <th>25476</th>\n",
       "      <td>EZYV25477</td>\n",
       "      <td>Asia</td>\n",
       "      <td>High School</td>\n",
       "      <td>Y</td>\n",
       "      <td>N</td>\n",
       "      <td>3274</td>\n",
       "      <td>2006</td>\n",
       "      <td>Northeast</td>\n",
       "      <td>279174.7900</td>\n",
       "      <td>Year</td>\n",
       "      <td>Y</td>\n",
       "      <td>Certified</td>\n",
       "    </tr>\n",
       "    <tr>\n",
       "      <th>25477</th>\n",
       "      <td>EZYV25478</td>\n",
       "      <td>Asia</td>\n",
       "      <td>Master's</td>\n",
       "      <td>Y</td>\n",
       "      <td>N</td>\n",
       "      <td>1121</td>\n",
       "      <td>1910</td>\n",
       "      <td>South</td>\n",
       "      <td>146298.8500</td>\n",
       "      <td>Year</td>\n",
       "      <td>N</td>\n",
       "      <td>Certified</td>\n",
       "    </tr>\n",
       "    <tr>\n",
       "      <th>25478</th>\n",
       "      <td>EZYV25479</td>\n",
       "      <td>Asia</td>\n",
       "      <td>Master's</td>\n",
       "      <td>Y</td>\n",
       "      <td>Y</td>\n",
       "      <td>1918</td>\n",
       "      <td>1887</td>\n",
       "      <td>West</td>\n",
       "      <td>86154.7700</td>\n",
       "      <td>Year</td>\n",
       "      <td>Y</td>\n",
       "      <td>Certified</td>\n",
       "    </tr>\n",
       "    <tr>\n",
       "      <th>25479</th>\n",
       "      <td>EZYV25480</td>\n",
       "      <td>Asia</td>\n",
       "      <td>Bachelor's</td>\n",
       "      <td>Y</td>\n",
       "      <td>N</td>\n",
       "      <td>3195</td>\n",
       "      <td>1960</td>\n",
       "      <td>Midwest</td>\n",
       "      <td>70876.9100</td>\n",
       "      <td>Year</td>\n",
       "      <td>Y</td>\n",
       "      <td>Certified</td>\n",
       "    </tr>\n",
       "  </tbody>\n",
       "</table>\n",
       "<p>25480 rows × 12 columns</p>\n",
       "</div>"
      ],
      "text/plain": [
       "         case_id continent education_of_employee has_job_experience  \\\n",
       "0         EZYV01      Asia           High School                  N   \n",
       "1         EZYV02      Asia              Master's                  Y   \n",
       "2         EZYV03      Asia            Bachelor's                  N   \n",
       "3         EZYV04      Asia            Bachelor's                  N   \n",
       "4         EZYV05    Africa              Master's                  Y   \n",
       "...          ...       ...                   ...                ...   \n",
       "25475  EZYV25476      Asia            Bachelor's                  Y   \n",
       "25476  EZYV25477      Asia           High School                  Y   \n",
       "25477  EZYV25478      Asia              Master's                  Y   \n",
       "25478  EZYV25479      Asia              Master's                  Y   \n",
       "25479  EZYV25480      Asia            Bachelor's                  Y   \n",
       "\n",
       "      requires_job_training  no_of_employees  yr_of_estab  \\\n",
       "0                         N            14513         2007   \n",
       "1                         N             2412         2002   \n",
       "2                         Y            44444         2008   \n",
       "3                         N               98         1897   \n",
       "4                         N             1082         2005   \n",
       "...                     ...              ...          ...   \n",
       "25475                     Y             2601         2008   \n",
       "25476                     N             3274         2006   \n",
       "25477                     N             1121         1910   \n",
       "25478                     Y             1918         1887   \n",
       "25479                     N             3195         1960   \n",
       "\n",
       "      region_of_employment  prevailing_wage unit_of_wage full_time_position  \\\n",
       "0                     West         592.2029         Hour                  Y   \n",
       "1                Northeast       83425.6500         Year                  Y   \n",
       "2                     West      122996.8600         Year                  Y   \n",
       "3                     West       83434.0300         Year                  Y   \n",
       "4                    South      149907.3900         Year                  Y   \n",
       "...                    ...              ...          ...                ...   \n",
       "25475                South       77092.5700         Year                  Y   \n",
       "25476            Northeast      279174.7900         Year                  Y   \n",
       "25477                South      146298.8500         Year                  N   \n",
       "25478                 West       86154.7700         Year                  Y   \n",
       "25479              Midwest       70876.9100         Year                  Y   \n",
       "\n",
       "      case_status  \n",
       "0          Denied  \n",
       "1       Certified  \n",
       "2          Denied  \n",
       "3          Denied  \n",
       "4       Certified  \n",
       "...           ...  \n",
       "25475   Certified  \n",
       "25476   Certified  \n",
       "25477   Certified  \n",
       "25478   Certified  \n",
       "25479   Certified  \n",
       "\n",
       "[25480 rows x 12 columns]"
      ]
     },
     "execution_count": 3,
     "metadata": {},
     "output_type": "execute_result"
    }
   ],
   "source": [
    "file_path=r\"C:\\Users\\amol\\Hydrabad\\Naresh_IT\\Data_Science&Ai_by_OmkarSir\\Classes\\EDA\\DataFrame\\Visadataset.csv\"\n",
    "df_visa=pd.read_csv(file_path)\n",
    "df_visa"
   ]
  },
  {
   "cell_type": "code",
   "execution_count": 4,
   "id": "f05387fa-bbb5-438d-a2b3-4ea86483b662",
   "metadata": {},
   "outputs": [
    {
     "data": {
      "text/plain": [
       "Index(['no_of_employees', 'yr_of_estab', 'prevailing_wage'], dtype='object')"
      ]
     },
     "execution_count": 4,
     "metadata": {},
     "output_type": "execute_result"
    }
   ],
   "source": [
    "num=df_visa.select_dtypes(exclude='object').columns\n",
    "num\n"
   ]
  },
  {
   "cell_type": "code",
   "execution_count": 5,
   "id": "e88f51f4-8bae-43e6-83c3-628b570cdf9e",
   "metadata": {},
   "outputs": [
    {
     "data": {
      "text/plain": [
       "0           592.2029\n",
       "1         83425.6500\n",
       "2        122996.8600\n",
       "3         83434.0300\n",
       "4        149907.3900\n",
       "            ...     \n",
       "25475     77092.5700\n",
       "25476    279174.7900\n",
       "25477    146298.8500\n",
       "25478     86154.7700\n",
       "25479     70876.9100\n",
       "Name: prevailing_wage, Length: 25480, dtype: float64"
      ]
     },
     "execution_count": 5,
     "metadata": {},
     "output_type": "execute_result"
    }
   ],
   "source": [
    "df_visa['prevailing_wage']"
   ]
  },
  {
   "cell_type": "code",
   "execution_count": 6,
   "id": "66d16001-a078-401b-8fcc-adfd034c9562",
   "metadata": {},
   "outputs": [],
   "source": [
    "wage_data=df_visa['prevailing_wage']\n",
    "Count=len(wage_data)\n",
    "Min=np.min(wage_data)\n",
    "Max=np.max(wage_data)\n",
    "Mean=np.mean(wage_data)\n",
    "Median=np.median(wage_data)"
   ]
  },
  {
   "cell_type": "code",
   "execution_count": 7,
   "id": "cbb35ca2-c3c8-4bdd-8cc1-313273d1cf9a",
   "metadata": {},
   "outputs": [
    {
     "data": {
      "text/html": [
       "<div>\n",
       "<style scoped>\n",
       "    .dataframe tbody tr th:only-of-type {\n",
       "        vertical-align: middle;\n",
       "    }\n",
       "\n",
       "    .dataframe tbody tr th {\n",
       "        vertical-align: top;\n",
       "    }\n",
       "\n",
       "    .dataframe thead th {\n",
       "        text-align: right;\n",
       "    }\n",
       "</style>\n",
       "<table border=\"1\" class=\"dataframe\">\n",
       "  <thead>\n",
       "    <tr style=\"text-align: right;\">\n",
       "      <th></th>\n",
       "      <th>prevailing_wage</th>\n",
       "    </tr>\n",
       "  </thead>\n",
       "  <tbody>\n",
       "    <tr>\n",
       "      <th>Count</th>\n",
       "      <td>25480.00</td>\n",
       "    </tr>\n",
       "    <tr>\n",
       "      <th>Min</th>\n",
       "      <td>2.14</td>\n",
       "    </tr>\n",
       "    <tr>\n",
       "      <th>Mean</th>\n",
       "      <td>74455.81</td>\n",
       "    </tr>\n",
       "    <tr>\n",
       "      <th>Median</th>\n",
       "      <td>70308.21</td>\n",
       "    </tr>\n",
       "    <tr>\n",
       "      <th>Max</th>\n",
       "      <td>319210.27</td>\n",
       "    </tr>\n",
       "  </tbody>\n",
       "</table>\n",
       "</div>"
      ],
      "text/plain": [
       "        prevailing_wage\n",
       "Count          25480.00\n",
       "Min                2.14\n",
       "Mean           74455.81\n",
       "Median         70308.21\n",
       "Max           319210.27"
      ]
     },
     "execution_count": 7,
     "metadata": {},
     "output_type": "execute_result"
    }
   ],
   "source": [
    "wage_data=df_visa['prevailing_wage']\n",
    "Count=len(wage_data)\n",
    "Min=round(np.min(wage_data),2)\n",
    "Max= round(np.max(wage_data),2)\n",
    "Mean= round(np.mean(wage_data),2)\n",
    "Median= round(np.median(wage_data),2)\n",
    "index=['Count','Min','Mean','Median','Max']\n",
    "Values=[Count,Min,Mean,Median,Max]\n",
    "pd.DataFrame(Values,index=index,columns=['prevailing_wage'])"
   ]
  },
  {
   "cell_type": "code",
   "execution_count": 8,
   "id": "8c82cb6c-8622-40bb-9854-3452f767e1cc",
   "metadata": {},
   "outputs": [
    {
     "data": {
      "text/html": [
       "<div>\n",
       "<style scoped>\n",
       "    .dataframe tbody tr th:only-of-type {\n",
       "        vertical-align: middle;\n",
       "    }\n",
       "\n",
       "    .dataframe tbody tr th {\n",
       "        vertical-align: top;\n",
       "    }\n",
       "\n",
       "    .dataframe thead th {\n",
       "        text-align: right;\n",
       "    }\n",
       "</style>\n",
       "<table border=\"1\" class=\"dataframe\">\n",
       "  <thead>\n",
       "    <tr style=\"text-align: right;\">\n",
       "      <th></th>\n",
       "      <th>prevailing_wage</th>\n",
       "    </tr>\n",
       "  </thead>\n",
       "  <tbody>\n",
       "    <tr>\n",
       "      <th>Count</th>\n",
       "      <td>25480.00</td>\n",
       "    </tr>\n",
       "    <tr>\n",
       "      <th>Min</th>\n",
       "      <td>2.14</td>\n",
       "    </tr>\n",
       "    <tr>\n",
       "      <th>Mean</th>\n",
       "      <td>74455.81</td>\n",
       "    </tr>\n",
       "    <tr>\n",
       "      <th>Median</th>\n",
       "      <td>70308.21</td>\n",
       "    </tr>\n",
       "    <tr>\n",
       "      <th>Max</th>\n",
       "      <td>319210.27</td>\n",
       "    </tr>\n",
       "  </tbody>\n",
       "</table>\n",
       "</div>"
      ],
      "text/plain": [
       "        prevailing_wage\n",
       "Count          25480.00\n",
       "Min                2.14\n",
       "Mean           74455.81\n",
       "Median         70308.21\n",
       "Max           319210.27"
      ]
     },
     "execution_count": 8,
     "metadata": {},
     "output_type": "execute_result"
    }
   ],
   "source": [
    "wage_data=df_visa['prevailing_wage']\n",
    "Count=len(wage_data)\n",
    "Min=round(np.min(wage_data),2)\n",
    "Max= round(np.max(wage_data),2)\n",
    "Mean= round(np.mean(wage_data),2)\n",
    "Median= round(np.median(wage_data),2)\n",
    "index=['Count','Min','Mean','Median','Max']\n",
    "Values=[Count,Min,Mean,Median,Max]\n",
    "pd.DataFrame(Values,index=index,columns=['prevailing_wage'])"
   ]
  },
  {
   "cell_type": "code",
   "execution_count": 9,
   "id": "967694ec-8410-43dc-8414-1547861539c4",
   "metadata": {},
   "outputs": [
    {
     "data": {
      "text/html": [
       "<div>\n",
       "<style scoped>\n",
       "    .dataframe tbody tr th:only-of-type {\n",
       "        vertical-align: middle;\n",
       "    }\n",
       "\n",
       "    .dataframe tbody tr th {\n",
       "        vertical-align: top;\n",
       "    }\n",
       "\n",
       "    .dataframe thead th {\n",
       "        text-align: right;\n",
       "    }\n",
       "</style>\n",
       "<table border=\"1\" class=\"dataframe\">\n",
       "  <thead>\n",
       "    <tr style=\"text-align: right;\">\n",
       "      <th></th>\n",
       "      <th>prevailing_wage</th>\n",
       "    </tr>\n",
       "  </thead>\n",
       "  <tbody>\n",
       "    <tr>\n",
       "      <th>Count</th>\n",
       "      <td>25480.00</td>\n",
       "    </tr>\n",
       "    <tr>\n",
       "      <th>Min</th>\n",
       "      <td>2.14</td>\n",
       "    </tr>\n",
       "    <tr>\n",
       "      <th>Mean</th>\n",
       "      <td>74455.81</td>\n",
       "    </tr>\n",
       "    <tr>\n",
       "      <th>Median</th>\n",
       "      <td>70308.21</td>\n",
       "    </tr>\n",
       "    <tr>\n",
       "      <th>Max</th>\n",
       "      <td>319210.27</td>\n",
       "    </tr>\n",
       "  </tbody>\n",
       "</table>\n",
       "</div>"
      ],
      "text/plain": [
       "        prevailing_wage\n",
       "Count          25480.00\n",
       "Min                2.14\n",
       "Mean           74455.81\n",
       "Median         70308.21\n",
       "Max           319210.27"
      ]
     },
     "execution_count": 9,
     "metadata": {},
     "output_type": "execute_result"
    }
   ],
   "source": [
    "wage_data=df_visa['prevailing_wage']\n",
    "Count=len(wage_data)\n",
    "Min=round(np.min(wage_data),2)\n",
    "Max= round(np.max(wage_data),2)\n",
    "Mean= round(np.mean(wage_data),2)\n",
    "Median= round(np.median(wage_data),2)\n",
    "index=['Count','Min','Mean','Median','Max']\n",
    "Values=[Count,Min,Mean,Median,Max]\n",
    "pd.DataFrame(Values,index=index,columns=['prevailing_wage'])"
   ]
  },
  {
   "cell_type": "code",
   "execution_count": 10,
   "id": "463b705f-15d7-4269-b88a-1d20b7c330eb",
   "metadata": {},
   "outputs": [],
   "source": [
    "l=[]\n",
    "for i in num:\n",
    "    data=df_visa['prevailing_wage']\n",
    "    Count=len(data)\n",
    "    Min=round(np.min(data),2)\n",
    "    Max= round(np.max(data),2)\n",
    "    Mean= round(np.mean(data),2)\n",
    "    Median= round(np.median(data),2)\n",
    "    p_25=round(np.percentile(data,25),)\n",
    "    p_50=round(np.percentile(data,50),)\n",
    "    p_75=round(np.percentile(data,75),)\n",
    "    index=['Count','Min','Mean','Median',\n",
    "           '25p','50p','75p','Max']\n",
    "    Values=[Count,Min,Mean,Median,p_25,p_50,p_75,Max]\n",
    "    pd.DataFrame(Values,index=index,columns=['prevailing_wage'])\n",
    "    l.append(Values)"
   ]
  },
  {
   "cell_type": "code",
   "execution_count": 11,
   "id": "c2b126a5-7ea0-4026-930f-200b566186af",
   "metadata": {},
   "outputs": [
    {
     "data": {
      "text/html": [
       "<div>\n",
       "<style scoped>\n",
       "    .dataframe tbody tr th:only-of-type {\n",
       "        vertical-align: middle;\n",
       "    }\n",
       "\n",
       "    .dataframe tbody tr th {\n",
       "        vertical-align: top;\n",
       "    }\n",
       "\n",
       "    .dataframe thead th {\n",
       "        text-align: right;\n",
       "    }\n",
       "</style>\n",
       "<table border=\"1\" class=\"dataframe\">\n",
       "  <thead>\n",
       "    <tr style=\"text-align: right;\">\n",
       "      <th></th>\n",
       "      <th>no_of_employees</th>\n",
       "      <th>yr_of_estab</th>\n",
       "      <th>prevailing_wage</th>\n",
       "    </tr>\n",
       "  </thead>\n",
       "  <tbody>\n",
       "    <tr>\n",
       "      <th>Count</th>\n",
       "      <td>25480.00</td>\n",
       "      <td>25480.00</td>\n",
       "      <td>25480.00</td>\n",
       "    </tr>\n",
       "    <tr>\n",
       "      <th>Min</th>\n",
       "      <td>2.14</td>\n",
       "      <td>2.14</td>\n",
       "      <td>2.14</td>\n",
       "    </tr>\n",
       "    <tr>\n",
       "      <th>Mean</th>\n",
       "      <td>74455.81</td>\n",
       "      <td>74455.81</td>\n",
       "      <td>74455.81</td>\n",
       "    </tr>\n",
       "    <tr>\n",
       "      <th>Median</th>\n",
       "      <td>70308.21</td>\n",
       "      <td>70308.21</td>\n",
       "      <td>70308.21</td>\n",
       "    </tr>\n",
       "    <tr>\n",
       "      <th>25p</th>\n",
       "      <td>34015.00</td>\n",
       "      <td>34015.00</td>\n",
       "      <td>34015.00</td>\n",
       "    </tr>\n",
       "    <tr>\n",
       "      <th>50p</th>\n",
       "      <td>70308.00</td>\n",
       "      <td>70308.00</td>\n",
       "      <td>70308.00</td>\n",
       "    </tr>\n",
       "    <tr>\n",
       "      <th>75p</th>\n",
       "      <td>107736.00</td>\n",
       "      <td>107736.00</td>\n",
       "      <td>107736.00</td>\n",
       "    </tr>\n",
       "    <tr>\n",
       "      <th>Max</th>\n",
       "      <td>319210.27</td>\n",
       "      <td>319210.27</td>\n",
       "      <td>319210.27</td>\n",
       "    </tr>\n",
       "  </tbody>\n",
       "</table>\n",
       "</div>"
      ],
      "text/plain": [
       "        no_of_employees  yr_of_estab  prevailing_wage\n",
       "Count          25480.00     25480.00         25480.00\n",
       "Min                2.14         2.14             2.14\n",
       "Mean           74455.81     74455.81         74455.81\n",
       "Median         70308.21     70308.21         70308.21\n",
       "25p            34015.00     34015.00         34015.00\n",
       "50p            70308.00     70308.00         70308.00\n",
       "75p           107736.00    107736.00        107736.00\n",
       "Max           319210.27    319210.27        319210.27"
      ]
     },
     "execution_count": 11,
     "metadata": {},
     "output_type": "execute_result"
    }
   ],
   "source": [
    "pd.DataFrame(l,index=num,columns=index).T"
   ]
  },
  {
   "cell_type": "code",
   "execution_count": 12,
   "id": "60a7c084-e974-4145-8c88-5eb77cc63065",
   "metadata": {},
   "outputs": [
    {
     "data": {
      "text/html": [
       "<div>\n",
       "<style scoped>\n",
       "    .dataframe tbody tr th:only-of-type {\n",
       "        vertical-align: middle;\n",
       "    }\n",
       "\n",
       "    .dataframe tbody tr th {\n",
       "        vertical-align: top;\n",
       "    }\n",
       "\n",
       "    .dataframe thead th {\n",
       "        text-align: right;\n",
       "    }\n",
       "</style>\n",
       "<table border=\"1\" class=\"dataframe\">\n",
       "  <thead>\n",
       "    <tr style=\"text-align: right;\">\n",
       "      <th></th>\n",
       "      <th>no_of_employees</th>\n",
       "      <th>yr_of_estab</th>\n",
       "      <th>prevailing_wage</th>\n",
       "    </tr>\n",
       "  </thead>\n",
       "  <tbody>\n",
       "    <tr>\n",
       "      <th>count</th>\n",
       "      <td>25480.000000</td>\n",
       "      <td>25480.000000</td>\n",
       "      <td>25480.000000</td>\n",
       "    </tr>\n",
       "    <tr>\n",
       "      <th>mean</th>\n",
       "      <td>5667.043210</td>\n",
       "      <td>1979.409929</td>\n",
       "      <td>74455.814592</td>\n",
       "    </tr>\n",
       "    <tr>\n",
       "      <th>std</th>\n",
       "      <td>22877.928848</td>\n",
       "      <td>42.366929</td>\n",
       "      <td>52815.942327</td>\n",
       "    </tr>\n",
       "    <tr>\n",
       "      <th>min</th>\n",
       "      <td>-26.000000</td>\n",
       "      <td>1800.000000</td>\n",
       "      <td>2.136700</td>\n",
       "    </tr>\n",
       "    <tr>\n",
       "      <th>25%</th>\n",
       "      <td>1022.000000</td>\n",
       "      <td>1976.000000</td>\n",
       "      <td>34015.480000</td>\n",
       "    </tr>\n",
       "    <tr>\n",
       "      <th>50%</th>\n",
       "      <td>2109.000000</td>\n",
       "      <td>1997.000000</td>\n",
       "      <td>70308.210000</td>\n",
       "    </tr>\n",
       "    <tr>\n",
       "      <th>75%</th>\n",
       "      <td>3504.000000</td>\n",
       "      <td>2005.000000</td>\n",
       "      <td>107735.512500</td>\n",
       "    </tr>\n",
       "    <tr>\n",
       "      <th>max</th>\n",
       "      <td>602069.000000</td>\n",
       "      <td>2016.000000</td>\n",
       "      <td>319210.270000</td>\n",
       "    </tr>\n",
       "  </tbody>\n",
       "</table>\n",
       "</div>"
      ],
      "text/plain": [
       "       no_of_employees   yr_of_estab  prevailing_wage\n",
       "count     25480.000000  25480.000000     25480.000000\n",
       "mean       5667.043210   1979.409929     74455.814592\n",
       "std       22877.928848     42.366929     52815.942327\n",
       "min         -26.000000   1800.000000         2.136700\n",
       "25%        1022.000000   1976.000000     34015.480000\n",
       "50%        2109.000000   1997.000000     70308.210000\n",
       "75%        3504.000000   2005.000000    107735.512500\n",
       "max      602069.000000   2016.000000    319210.270000"
      ]
     },
     "execution_count": 12,
     "metadata": {},
     "output_type": "execute_result"
    }
   ],
   "source": [
    "df_visa.describe()"
   ]
  },
  {
   "cell_type": "code",
   "execution_count": null,
   "id": "20d97ffa-18ec-4b73-8115-463520e2ae4d",
   "metadata": {},
   "outputs": [],
   "source": []
  },
  {
   "cell_type": "markdown",
   "id": "40261f8d-8346-45be-99ae-93d2deee8f07",
   "metadata": {},
   "source": [
    "**percentile_quantile**"
   ]
  },
  {
   "cell_type": "code",
   "execution_count": 14,
   "id": "6b660fad-e662-439b-a228-22c5ad70992b",
   "metadata": {},
   "outputs": [
    {
     "ename": "SyntaxError",
     "evalue": "invalid syntax (607116054.py, line 1)",
     "output_type": "error",
     "traceback": [
      "\u001b[1;36m  Cell \u001b[1;32mIn[14], line 1\u001b[1;36m\u001b[0m\n\u001b[1;33m    40 p=200\u001b[0m\n\u001b[1;37m       ^\u001b[0m\n\u001b[1;31mSyntaxError\u001b[0m\u001b[1;31m:\u001b[0m invalid syntax\n"
     ]
    }
   ],
   "source": [
    "40 p=200\n",
    "40 perecentage of total data"
   ]
  },
  {
   "cell_type": "code",
   "execution_count": null,
   "id": "75c661da-b96a-4255-b9cc-5b9c84bc6558",
   "metadata": {},
   "outputs": [],
   "source": [
    "np.percentile(wage_data,50)\n"
   ]
  },
  {
   "cell_type": "code",
   "execution_count": null,
   "id": "9798162b-65e7-4cef-8952-1bfd058aa837",
   "metadata": {},
   "outputs": [],
   "source": [
    "np.quantile(wage_data,0.5)"
   ]
  },
  {
   "cell_type": "code",
   "execution_count": null,
   "id": "84421a27-7abf-4f78-8d7c-1e800b748509",
   "metadata": {},
   "outputs": [],
   "source": [
    "np.median(wage_data)"
   ]
  },
  {
   "cell_type": "markdown",
   "id": "40b2c1b5-2cdb-42dd-8ddf-ba5876553da2",
   "metadata": {},
   "source": [
    "- 50p=70308\n",
    "\n",
    "- 50 perecentage of total data has less than 70308.20\n",
    "\n",
    "- 50 perecentage of 25480 has less than 70309.20\n",
    "\n",
    "- 12740 applicants ha wages less than 70309.20"
   ]
  },
  {
   "cell_type": "code",
   "execution_count": null,
   "id": "e580fdb4-e77d-4e25-98cd-b0adc8dda899",
   "metadata": {},
   "outputs": [],
   "source": [
    "wage_data=df_visa['prevailing_wage']\n",
    "p_50=np.percentile(wage_data,50)\n",
    "wage_data<p_50"
   ]
  },
  {
   "cell_type": "code",
   "execution_count": null,
   "id": "d82faf93-eaa2-403b-9c68-5e0b9abcb95f",
   "metadata": {},
   "outputs": [],
   "source": [
    "wage_data=df_visa['prevailing_wage']\n",
    "p_50=np.percentile(wage_data,50)\n",
    "con=wage_data<p_50\n",
    "len(df_visa[con])\n",
    "    "
   ]
  },
  {
   "cell_type": "code",
   "execution_count": null,
   "id": "b3cf7e5e-7187-46b1-9a7d-2879e858008b",
   "metadata": {},
   "outputs": [],
   "source": [
    "wage_data=df_visa['prevailing_wage']\n",
    "p_25=np.percentile(wage_data,25)\n",
    "con=wage_data<p_50\n",
    "len(df_visa[con])==25*25480/100"
   ]
  },
  {
   "cell_type": "code",
   "execution_count": null,
   "id": "c1772d81-fe53-4e0c-8956-bcb09a6538a6",
   "metadata": {},
   "outputs": [],
   "source": [
    "wage_data=df_visa['prevailing_wage']\n",
    "p_75=np.percentile(wage_data,75)\n",
    "con=wage_data<p_50\n",
    "len(df_visa[con])==25*25480/100"
   ]
  },
  {
   "cell_type": "code",
   "execution_count": null,
   "id": "9f1266d9-18fd-4682-bb92-8a984f98e298",
   "metadata": {},
   "outputs": [],
   "source": []
  },
  {
   "cell_type": "code",
   "execution_count": null,
   "id": "d8441bfd-fc92-4bf6-95c6-92edbde5410f",
   "metadata": {},
   "outputs": [],
   "source": []
  },
  {
   "cell_type": "code",
   "execution_count": null,
   "id": "88063355-c9ec-4e53-aec3-adf83804f3be",
   "metadata": {},
   "outputs": [],
   "source": []
  },
  {
   "cell_type": "code",
   "execution_count": null,
   "id": "7450dc43-e92f-4ffc-8008-0d3ad6bcb1c6",
   "metadata": {},
   "outputs": [],
   "source": [
    "print('Count is ',Count)"
   ]
  },
  {
   "cell_type": "code",
   "execution_count": null,
   "id": "c20ccd16-23e4-4fe6-b1a5-56c5ef5446ea",
   "metadata": {},
   "outputs": [],
   "source": [
    "print('Minimum is',Min)"
   ]
  },
  {
   "cell_type": "code",
   "execution_count": null,
   "id": "b1846376-f7f0-484e-8096-3082332f6c91",
   "metadata": {},
   "outputs": [],
   "source": [
    "print('Maximasi is',)"
   ]
  },
  {
   "cell_type": "markdown",
   "id": "605c6faf-8276-4600-83bd-8b618b9d13dc",
   "metadata": {},
   "source": [
    "**histogram**"
   ]
  },
  {
   "cell_type": "code",
   "execution_count": null,
   "id": "7c155acc-a2fb-45c9-9ff0-aa6966e63ecd",
   "metadata": {},
   "outputs": [],
   "source": [
    "wage_data=df_visa['prevailing_wage']"
   ]
  },
  {
   "cell_type": "code",
   "execution_count": null,
   "id": "618386c5-6be2-4291-9396-f8cb43da0300",
   "metadata": {},
   "outputs": [],
   "source": [
    "wage_data.mean()==wage_data.median()"
   ]
  },
  {
   "cell_type": "code",
   "execution_count": null,
   "id": "2bbec90e-ec3a-45ed-a2bd-bcbd693f040f",
   "metadata": {},
   "outputs": [],
   "source": [
    "step-1: calculate wagemean=u\n",
    "step-2: calculate std of wage sigma\n",
    "step-3: lb=u-1*sigma\n",
    "step-3: ub=u-1*sigma\n",
    "step-5: con1=wage_data>lb\n",
    "step-5: con2=wage_data<ub\n",
    "step-7:con=con1&con2\n",
    "step-8: len(visa_df[con])\n",
    "\n"
   ]
  },
  {
   "cell_type": "code",
   "execution_count": null,
   "id": "6bf48842-a5ec-4c5f-aa66-e621e1901d71",
   "metadata": {},
   "outputs": [],
   "source": [
    "wage_mean=wage_data.mean()\n",
    "wag_std=wage_data.std()\n",
    "lb=wage_mean-1*wag_std\n",
    "ub=wage_mean+1*wag_std\n",
    "con1=wage_data>lb\n",
    "con2=wage_data<ub\n",
    "con=con1&con2\n",
    "len(df_visa[con])==68*len(df_visa)/100\n"
   ]
  },
  {
   "cell_type": "code",
   "execution_count": null,
   "id": "3de65c40-3722-4421-9d73-8dd56184df19",
   "metadata": {},
   "outputs": [],
   "source": [
    "def eperical(k,n):\n",
    "    wage_mean=wage_data.mean()\n",
    "    wag_std=wage_data.std()\n",
    "    lb=wage_mean-k*wag_std\n",
    "    ub=wage_mean+n*wag_std\n",
    "    con1=wage_data>lb\n",
    "    con2=wage_data<ub\n",
    "    con=con1&con2\n",
    "    print(len(df_visa[con])==n*len(df_visa)/100)\n",
    "eperical(2,95)\n"
   ]
  },
  {
   "cell_type": "code",
   "execution_count": null,
   "id": "10b1de1d-87ac-488b-b81b-8d90c34f4408",
   "metadata": {},
   "outputs": [],
   "source": [
    "plt.hist(wage_data)"
   ]
  },
  {
   "cell_type": "code",
   "execution_count": null,
   "id": "34b52126-2dc9-4ccc-94b9-a04e4c1f6e8a",
   "metadata": {},
   "outputs": [],
   "source": [
    "plt.hist(wage_data,bins=40)"
   ]
  },
  {
   "cell_type": "code",
   "execution_count": null,
   "id": "e49cca7b-8634-47ac-a67f-e88ed41932fb",
   "metadata": {},
   "outputs": [],
   "source": [
    "plt.hist(wage_data,bins=40)"
   ]
  },
  {
   "cell_type": "markdown",
   "id": "eee8a09a-e354-4ef0-9aec-3c1cbf414c53",
   "metadata": {},
   "source": [
    "- Data skewed\n",
    "\n",
    "- Not follwing Normal distribution\n",
    "\n",
    "- Means outliers are present"
   ]
  },
  {
   "cell_type": "markdown",
   "id": "588ea506-dc70-4753-aa79-caeb54f9cef1",
   "metadata": {},
   "source": [
    "**Outliers analysis**  \n",
    "\n",
    "box-plot"
   ]
  },
  {
   "cell_type": "code",
   "execution_count": null,
   "id": "f7652bdc-2ebf-47f8-8632-dd796b3ace80",
   "metadata": {},
   "outputs": [],
   "source": [
    "plt.boxplot(wage_data)"
   ]
  },
  {
   "cell_type": "code",
   "execution_count": null,
   "id": "6d1107db-bd22-471b-a278-5ddd5afd397a",
   "metadata": {},
   "outputs": [],
   "source": [
    "plt.boxplot(wage_data)\n",
    "plt.show()"
   ]
  },
  {
   "cell_type": "code",
   "execution_count": null,
   "id": "3d0bafa1-7f2b-4ca4-aeb6-bbb9e3d0613c",
   "metadata": {},
   "outputs": [],
   "source": [
    "plt.subplot(2,1,1).hist(wage_data)\n",
    "plt.subplot(2,1,2).boxplot(wage_data,vert=False)\n",
    "plt.show()"
   ]
  },
  {
   "cell_type": "markdown",
   "id": "3fade559-c28d-4138-9262-fc6571168d10",
   "metadata": {},
   "source": [
    "**Outliears data**"
   ]
  },
  {
   "cell_type": "code",
   "execution_count": null,
   "id": "5ea21023-fc26-4839-83e9-82a2f0b38d0c",
   "metadata": {},
   "outputs": [],
   "source": [
    " code-block:: none\n",
    "\n",
    "          Q1-1.5IQR   Q1   median  Q3   Q3+1.5IQR\n",
    "                       |-----:-----|\n",
    "       o      |--------|     :     |--------|    o  o\n",
    "                       |-----:-----|\n",
    "     flier             <----------->            fliers\n",
    "                            IQR"
   ]
  },
  {
   "cell_type": "code",
   "execution_count": null,
   "id": "5a2fb4fc-3225-4ed8-a7ac-71420c486d57",
   "metadata": {},
   "outputs": [],
   "source": [
    "q1=np.percentile(wage_data,25)\n",
    "q3=np.percentile(wage_data,75)\n",
    "IQR =q3-q1\n",
    "lb=q1-1.5*IQR\n",
    "ub=q3+1.5*IQR\n",
    "con1=wage_data<lb\n",
    "con2=wage_data>ub\n",
    "con= con1 |con2\n",
    "outliersdf=df_visa[con]\n",
    "outliersdf\n",
    "\n",
    "\n"
   ]
  },
  {
   "cell_type": "code",
   "execution_count": null,
   "id": "b250e189-9810-4a7c-b1ab-5b11b94b17c8",
   "metadata": {},
   "outputs": [],
   "source": [
    "q1=np.percentile(wage_data,25)\n",
    "q3=np.percentile(wage_data,75)\n",
    "IQR =q3-q1\n",
    "lb=q1-1.5*IQR\n",
    "ub=q3+1.5*IQR\n",
    "con1=wage_data>lb\n",
    "con2=wage_data<ub\n",
    "con= con1 & con2\n",
    "nontliersdf=df_visa[con]\n",
    "nontliersdf"
   ]
  },
  {
   "cell_type": "code",
   "execution_count": null,
   "id": "1c05d2d0-9f50-4bcc-b6de-a27c49fcc4e7",
   "metadata": {},
   "outputs": [],
   "source": [
    "d=outliersdf['prevailing_wage']\n",
    "plt.subplot(2,1,1).hist(d)\n",
    "plt.subplot(2,1,2).boxplot(d,vert=False)\n",
    "plt.show()"
   ]
  },
  {
   "cell_type": "code",
   "execution_count": null,
   "id": "93657743-716a-421a-96d6-e17c5459d0f3",
   "metadata": {},
   "outputs": [],
   "source": []
  },
  {
   "cell_type": "code",
   "execution_count": null,
   "id": "25aacb62-7460-4672-9af6-a7a48de99633",
   "metadata": {},
   "outputs": [],
   "source": []
  },
  {
   "cell_type": "code",
   "execution_count": null,
   "id": "37fb7e06-34af-481c-9aa3-53e80850a1d3",
   "metadata": {},
   "outputs": [],
   "source": []
  },
  {
   "cell_type": "code",
   "execution_count": null,
   "id": "9f0f8cb3-9a60-4e7e-95e5-308849fa0e41",
   "metadata": {},
   "outputs": [],
   "source": []
  },
  {
   "cell_type": "code",
   "execution_count": null,
   "id": "c8864b72-cace-46e6-9ddf-93a3419e7094",
   "metadata": {},
   "outputs": [],
   "source": []
  },
  {
   "cell_type": "code",
   "execution_count": null,
   "id": "0e52f0ad-45fc-482b-8751-eef641ecdad7",
   "metadata": {},
   "outputs": [],
   "source": []
  },
  {
   "cell_type": "code",
   "execution_count": null,
   "id": "6402002c-6bfe-4166-b767-7dd76e5e2841",
   "metadata": {},
   "outputs": [],
   "source": [
    "aa=plt.boxplot(wage_data)\n",
    "aa.q1"
   ]
  },
  {
   "cell_type": "code",
   "execution_count": null,
   "id": "ca3f9d56-e55a-40ba-8fc1-ef8f1d90d0a9",
   "metadata": {},
   "outputs": [],
   "source": [
    "lb=2.13670000e+00\n",
    "ub=7.98234003e+03\n",
    "con1=wage_data>lb\n",
    "con2=wage_data<ub\n",
    "con=con1&con2\n",
    "len(df_visa[con])"
   ]
  },
  {
   "cell_type": "code",
   "execution_count": null,
   "id": "b1bb8923-b503-4330-9e13-13fce6d7bbe9",
   "metadata": {},
   "outputs": [],
   "source": [
    "con=ub-lb\n",
    "con"
   ]
  },
  {
   "cell_type": "code",
   "execution_count": null,
   "id": "ff475420-9591-4371-a087-b1a1dc467bc6",
   "metadata": {},
   "outputs": [],
   "source": [
    "**Outlier imputation**\n",
    "\n",
    "  - Method 1: \n",
    "\n",
    "     - lesstan lb outliers inputs with lb value\n",
    "\n",
    "     - greaterthan ub outliers impute with ub value \n",
    "\n",
    "  - Method2: Every outlier replace with median"
   ]
  },
  {
   "cell_type": "markdown",
   "id": "b2f60450-8a99-4dee-a293-48d3219cfd53",
   "metadata": {},
   "source": [
    "$cap: Winsorizaion "
   ]
  },
  {
   "cell_type": "code",
   "execution_count": null,
   "id": "e16d5d36-5e52-40f7-a5dc-0256a7ddfa8a",
   "metadata": {},
   "outputs": [],
   "source": [
    "l=[]\n",
    "for i in wage_data:\n",
    "    if i<lb:\n",
    "        l.append(lb)\n",
    "    elif i>ub:\n",
    "        l.append(ub)\n",
    "    else:\n",
    "        l.append(i)\n",
    "df_visa['wage_data_new']"
   ]
  },
  {
   "cell_type": "code",
   "execution_count": null,
   "id": "c3554aa3-1614-467e-b87b-3d8af1631207",
   "metadata": {},
   "outputs": [],
   "source": [
    "import matplotlib.pyplot as plt\n",
    "\n",
    "d = df_visa['wage_data_new']\n",
    "\n",
    "plt.figure(figsize=(10, 5))\n",
    "plt.subplot(2, 1, 1)\n",
    "plt.hist(d, bins=30)\n",
    "plt.title(\"Histogram\")\n",
    "\n",
    "plt.subplot(2, 1, 2)\n",
    "plt.boxplot(d, vert=False)\n",
    "plt.title(\"Boxplot\")\n",
    "\n",
    "plt.tight_layout()\n",
    "plt.show()\n"
   ]
  },
  {
   "cell_type": "code",
   "execution_count": null,
   "id": "deff49a1-ca64-44bf-a11f-4b4d32396368",
   "metadata": {},
   "outputs": [],
   "source": [
    "d=outliersdf['wage_data_new']\n",
    "plt.subplot(2,1,1).hist(d)\n",
    "plt.subplot(2,1,2).boxplot(d,vert=False)\n",
    "plt.show()"
   ]
  },
  {
   "cell_type": "code",
   "execution_count": null,
   "id": "8f4f36a5-7af4-4797-a0ef-3fb45936d79c",
   "metadata": {},
   "outputs": [],
   "source": [
    "d=outliersdf['prevailing_wage']\n",
    "plt.subplot(2,2,1).hist(d)\n",
    "plt.subplot(2,2,2).hist(wage_data,bins=40)\n",
    "plt.subplot(2,2,3).boxplot(d,vert=False)\n",
    "plt.subplot(2,2,4).boxplot(wage_data,vert=False)\n",
    "plt.show()"
   ]
  },
  {
   "cell_type": "code",
   "execution_count": null,
   "id": "4849d381-d82a-4e11-a014-1f22dad86ca8",
   "metadata": {},
   "outputs": [],
   "source": [
    "plt.subplot(2,2,2).boxplot(wage_data,vert=False)\n"
   ]
  },
  {
   "cell_type": "code",
   "execution_count": null,
   "id": "20282da7-de33-495e-86b6-c0aeb9f929e5",
   "metadata": {},
   "outputs": [],
   "source": []
  },
  {
   "cell_type": "markdown",
   "id": "01db682e-e07e-4a9e-885f-3979bb0a5254",
   "metadata": {},
   "source": [
    "**Imputs With  Meadian**"
   ]
  },
  {
   "cell_type": "code",
   "execution_count": null,
   "id": "adebef5c-5241-41d8-976b-9939cd6285be",
   "metadata": {},
   "outputs": [],
   "source": []
  }
 ],
 "metadata": {
  "kernelspec": {
   "display_name": "Python [conda env:base] *",
   "language": "python",
   "name": "conda-base-py"
  },
  "language_info": {
   "codemirror_mode": {
    "name": "ipython",
    "version": 3
   },
   "file_extension": ".py",
   "mimetype": "text/x-python",
   "name": "python",
   "nbconvert_exporter": "python",
   "pygments_lexer": "ipython3",
   "version": "3.12.7"
  }
 },
 "nbformat": 4,
 "nbformat_minor": 5
}
