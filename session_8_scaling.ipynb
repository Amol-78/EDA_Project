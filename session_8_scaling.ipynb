{
 "cells": [
  {
   "cell_type": "code",
   "execution_count": 1,
   "id": "354e8e70-ac59-471c-b2ec-ef1f0f71afea",
   "metadata": {},
   "outputs": [],
   "source": [
    "import pandas as pd\n",
    "import numpy as np\n",
    "import matplotlib.pyplot as plt\n",
    "import seaborn as san"
   ]
  },
  {
   "cell_type": "code",
   "execution_count": 2,
   "id": "32fe23cb-4769-4ed1-8140-86646bd23aa2",
   "metadata": {},
   "outputs": [],
   "source": [
    "path='Visadataset.csv'\n",
    "visa_df=pd.read_csv(path)"
   ]
  },
  {
   "cell_type": "code",
   "execution_count": 3,
   "id": "c50ea151-a749-454c-859f-f294717db1fa",
   "metadata": {},
   "outputs": [],
   "source": [
    "cat=visa_df.select_dtypes(include='object').columns\n",
    "num=visa_df.select_dtypes(exclude='object').columns"
   ]
  },
  {
   "cell_type": "markdown",
   "id": "e92d1faf-622c-4279-9611-cc045d3b9b5a",
   "metadata": {},
   "source": [
    "- scaling is the one of most important step before model devlopement\n",
    "\n",
    "- scalling means makes all the columns under one scale\n",
    "\n",
    "- scalling used to make all the columns or fetures comrables\n",
    "\n",
    "- some ml models works on Distance nmethods\n",
    "\n",
    "   - example age min:  0 max : 100\n",
    "\n",
    "   - income might be lakhas crores so much bigger values\n",
    "\n",
    "   - if we dont make age and income under one scale ml model treats income is the important varaible\n",
    "\n",
    "   - when values are huge  maths makes more complex so it is better to do lower dowen the value\n",
    "\n",
    "   - All the features under one scaler so easy to compare\n",
    "\n",
    "       - Dollars and Ruppes we can not compare becuase two are dirffrant"
   ]
  },
  {
   "cell_type": "markdown",
   "id": "90cce803-808b-4990-93ce-1e28e6d8ad60",
   "metadata": {},
   "source": [
    "<img src=\"https://www.simplypsychology.org/wp-content/uploads/Z-score-formula.jpg\" jsaction=\"\" class=\"sFlh5c FyHeAf iPVvYb\" style=\"max-width: 435px; height: 97px; margin: 10px 0px; width: 119px;\" alt=\"Z-Score: Definition, Formula, Calculation &amp; Interpretation\" jsname=\"kn3ccd\">"
   ]
  },
  {
   "cell_type": "code",
   "execution_count": null,
   "id": "6789ffcf-98f7-416e-af17-ba5c6d1817a7",
   "metadata": {},
   "outputs": [],
   "source": [
    "# step-1: x= prevailawage data\n",
    "# step-2= mean=mean of previlwage data\n",
    "# step-3: sd =sd of pervilwage data\n",
    "# step-4: nstep1-step2=x- mean\n",
    "# step-5: step4/step/3 = (x-mean)/sd"
   ]
  },
  {
   "cell_type": "code",
   "execution_count": 7,
   "id": "1fc4bff6-407c-452f-bdf1-0eaa099493d1",
   "metadata": {},
   "outputs": [],
   "source": [
    "x=visa_df['prevailing_wage']"
   ]
  },
  {
   "cell_type": "code",
   "execution_count": 9,
   "id": "69910fc8-8420-42d5-bcc1-5cde68376b4c",
   "metadata": {},
   "outputs": [],
   "source": [
    "x_mean=visa_df['prevailing_wage'].mean()  # fit\n",
    "x_sd=visa_df['prevailing_wage'].std()  #fit\n",
    "wage_z=(x-x_mean)/x_sd   # tranfor"
   ]
  },
  {
   "cell_type": "code",
   "execution_count": 11,
   "id": "152ae679-bebd-47fc-a972-ebfd7dcb903f",
   "metadata": {},
   "outputs": [
    {
     "data": {
      "text/plain": [
       "(8.421660368899147e-17, 1.000000000000007)"
      ]
     },
     "execution_count": 11,
     "metadata": {},
     "output_type": "execute_result"
    }
   ],
   "source": [
    "wage_z.mean(),wage_z.std()"
   ]
  },
  {
   "cell_type": "code",
   "execution_count": 13,
   "id": "c084a4c3-3547-4f3d-8571-7cfe526c1ed9",
   "metadata": {},
   "outputs": [
    {
     "data": {
      "image/png": "[encoded data removed]",
      "text/plain": [
       "<Figure size 640x480 with 2 Axes>"
      ]
     },
     "metadata": {},
     "output_type": "display_data"
    }
   ],
   "source": [
    "plt.subplot(1,2,1).hist(x)\n",
    "plt.subplot(1,2,2).hist(wage_z)\n",
    "plt.show()"
   ]
  },
  {
   "cell_type": "markdown",
   "id": "cc8b6b73-8ddf-4476-97ab-3dbfd4a3c67c",
   "metadata": {},
   "source": [
    "**package name**\n",
    "\n",
    "  - sklearn\n",
    "\n",
    "      - preprocessing\n",
    "\n",
    "          - StandardScalar"
   ]
  },
  {
   "cell_type": "code",
   "execution_count": 35,
   "id": "3ddd4233-e8d2-4ce9-ae27-4485f5cf84ee",
   "metadata": {},
   "outputs": [],
   "source": [
    "from sklearn.preprocessing import StandardScaler\n",
    "wge_data=visa_df['prevailing_wage']\n",
    "ss=StandardScaler()\n",
    "wge_ss=ss.fit_transform([wage_z])"
   ]
  },
  {
   "cell_type": "code",
   "execution_count": 37,
   "id": "991131ea-d2e9-4182-8e54-adc2587c5850",
   "metadata": {},
   "outputs": [
    {
     "data": {
      "text/plain": [
       "array([[0., 0., 0., ..., 0., 0., 0.]])"
      ]
     },
     "execution_count": 37,
     "metadata": {},
     "output_type": "execute_result"
    }
   ],
   "source": [
    "wge_ss"
   ]
  },
  {
   "cell_type": "code",
   "execution_count": 17,
   "id": "8c0848ab-474d-496f-951e-0cc3fc2d2e67",
   "metadata": {},
   "outputs": [],
   "source": [
    "from sklearn.preprocessing import StandardScaler\n",
    "\n",
    "wge_data = visa_df['prevailing_wage']\n",
    "ss = StandardScaler()\n",
    "wge_ss = ss.fit_transform(wge_data.values.reshape(-1, 1))\n"
   ]
  },
  {
   "cell_type": "code",
   "execution_count": 19,
   "id": "7964516b-901d-434f-af38-82c6cae76116",
   "metadata": {},
   "outputs": [
    {
     "data": {
      "text/plain": [
       "array([[-1.39853722],\n",
       "       [ 0.1698353 ],\n",
       "       [ 0.91907852],\n",
       "       ...,\n",
       "       [ 1.36027953],\n",
       "       [ 0.22150859],\n",
       "       [-0.06776315]])"
      ]
     },
     "execution_count": 19,
     "metadata": {},
     "output_type": "execute_result"
    }
   ],
   "source": [
    "wge_ss"
   ]
  },
  {
   "cell_type": "code",
   "execution_count": 23,
   "id": "9f64e85f-5b01-4484-90e3-a2129ba8d5c2",
   "metadata": {},
   "outputs": [
    {
     "data": {
      "image/png": "[encoded data removed]",
      "text/plain": [
       "<Figure size 640x480 with 1 Axes>"
      ]
     },
     "metadata": {},
     "output_type": "display_data"
    }
   ],
   "source": [
    "plt.hist(wge_ss)\n",
    "plt.show()"
   ]
  },
  {
   "cell_type": "code",
   "execution_count": null,
   "id": "75422273-f8e7-44d8-92a3-56249392f18b",
   "metadata": {},
   "outputs": [],
   "source": [
    "# Assinment \n",
    "apply minMax scale or Normalizeation on wage data \n",
    "do based on formula\n",
    "\n",
    "\n",
    "# Assignemnet\n",
    "apply MinMax Scale or Normalization on wage data\n",
    "do based on formulae\n",
    "do based on package\n",
    "draw the histogram\n",
    "min=0 max=1"
   ]
  },
  {
   "cell_type": "code",
   "execution_count": 48,
   "id": "f18b7475-03a3-40b2-b9cb-300d421efcad",
   "metadata": {},
   "outputs": [],
   "source": [
    "from sklearn.preprocessing import MinMaxScaler\n",
    "mm_mine=MinMaxScaler()\n",
    "wge_data = visa_df['prevailing_wage']\n",
    "mmn=mm_mine.fit_transform(wge_data.values.reshape(-1,1))"
   ]
  },
  {
   "cell_type": "code",
   "execution_count": 41,
   "id": "27025bab-c1f4-49c8-a015-50a53c308b60",
   "metadata": {},
   "outputs": [
    {
     "data": {
      "text/plain": [
       "array([[0.00184853],\n",
       "       [0.2613452 ],\n",
       "       [0.385312  ],\n",
       "       ...,\n",
       "       [0.45831136],\n",
       "       [0.26989486],\n",
       "       [0.22203311]])"
      ]
     },
     "execution_count": 41,
     "metadata": {},
     "output_type": "execute_result"
    }
   ],
   "source": [
    "mmn"
   ]
  },
  {
   "cell_type": "markdown",
   "id": "6c568578-c586-42f1-a4f4-40b91a851f04",
   "metadata": {},
   "source": [
    "<img alt=\"\" class=\"bh lx nz c\" width=\"444\" height=\"156\" loading=\"lazy\" role=\"presentation\" src=\"https://miro.medium.com/v2/resize:fit:666/1*ye1I00S61GqpR34ABZZFLQ.png\">"
   ]
  },
  {
   "cell_type": "code",
   "execution_count": 52,
   "id": "a4930de5-f82c-4a5b-b734-d5911eea534d",
   "metadata": {},
   "outputs": [
    {
     "data": {
      "text/plain": [
       "0        0.001849\n",
       "1        0.261345\n",
       "2        0.385312\n",
       "3        0.261371\n",
       "4        0.469616\n",
       "           ...   \n",
       "25475    0.241505\n",
       "25476    0.874579\n",
       "25477    0.458311\n",
       "25478    0.269895\n",
       "25479    0.222033\n",
       "Name: prevailing_wage, Length: 25480, dtype: float64"
      ]
     },
     "execution_count": 52,
     "metadata": {},
     "output_type": "execute_result"
    }
   ],
   "source": [
    "wage_data = visa_df['prevailing_wage']\n",
    "wage_mn=np.min(wge_data)\n",
    "wage_mx=np.max(wage_data)\n",
    "wage_s=(wge_data-wage_mn)/(wage_mx-wage_mn)\n",
    "wage_s"
   ]
  },
  {
   "cell_type": "code",
   "execution_count": 54,
   "id": "9eeb2de6-e5b0-4df9-9b8f-35c711019320",
   "metadata": {},
   "outputs": [
    {
     "data": {
      "image/png": "[encoded data removed]",
      "text/plain": [
       "<Figure size 640x480 with 1 Axes>"
      ]
     },
     "metadata": {},
     "output_type": "display_data"
    }
   ],
   "source": [
    "plt.hist(wage_data)\n",
    "plt.show()"
   ]
  },
  {
   "cell_type": "code",
   "execution_count": null,
   "id": "85b6e1d6-5292-4556-8514-2143c94fbdcc",
   "metadata": {},
   "outputs": [],
   "source": []
  }
 ],
 "metadata": {
  "kernelspec": {
   "display_name": "Python [conda env:base] *",
   "language": "python",
   "name": "conda-base-py"
  },
  "language_info": {
   "codemirror_mode": {
    "name": "ipython",
    "version": 3
   },
   "file_extension": ".py",
   "mimetype": "text/x-python",
   "name": "python",
   "nbconvert_exporter": "python",
   "pygments_lexer": "ipython3",
   "version": "3.12.7"
  }
 },
 "nbformat": 4,
 "nbformat_minor": 5
}
